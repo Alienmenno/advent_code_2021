{
 "cells": [
  {
   "cell_type": "code",
   "execution_count": 3,
   "metadata": {},
   "outputs": [
    {
     "data": {
      "text/plain": [
       "1000×2 Matrix{Any}:\n",
       " \"forward\"  8\n",
       " \"forward\"  3\n",
       " \"forward\"  8\n",
       " \"down\"     6\n",
       " \"forward\"  3\n",
       " \"up\"       6\n",
       " \"down\"     3\n",
       " \"down\"     8\n",
       " \"down\"     5\n",
       " \"down\"     1\n",
       " ⋮          \n",
       " \"down\"     6\n",
       " \"forward\"  5\n",
       " \"up\"       3\n",
       " \"up\"       5\n",
       " \"forward\"  4\n",
       " \"forward\"  2\n",
       " \"up\"       6\n",
       " \"down\"     9\n",
       " \"forward\"  7"
      ]
     },
     "metadata": {},
     "output_type": "display_data"
    }
   ],
   "source": [
    "using DelimitedFiles\n",
    "\n",
    "sub_coarse_example = [\n",
    "    \"forward\" 5;\n",
    "    \"down\" 5;\n",
    "    \"forward\" 8;\n",
    "    \"up\" 3;\n",
    "    \"down\" 8;\n",
    "    \"forward\" 2;\n",
    "]\n",
    "\n",
    "sub_coarse = readdlm(\"day2_part1_input.txt\")"
   ]
  },
  {
   "cell_type": "code",
   "execution_count": 17,
   "metadata": {},
   "outputs": [
    {
     "data": {
      "text/plain": [
       "true"
      ]
     },
     "metadata": {},
     "output_type": "display_data"
    }
   ],
   "source": [
    "function followcoarse(subc)\n",
    "    function convertdirection(command)\n",
    "        d, v = command[1], command[2]\n",
    "        if d == \"forward\"\n",
    "            return v * [1 0]\n",
    "        elseif d == \"up\"\n",
    "            return v * [0 -1]\n",
    "        else\n",
    "            return v * [0 1]\n",
    "        end\n",
    "    end\n",
    "    map(convertdirection, eachrow(subc))\n",
    "end\n",
    "\n",
    "example_output = prod(sum(followcoarse(sub_coarse_example)))\n",
    "example_output == 150\n",
    "part1_output = prod(sum(followcoarse(sub_coarse)))\n",
    "part1_output == 1383564"
   ]
  },
  {
   "cell_type": "code",
   "execution_count": 23,
   "metadata": {},
   "outputs": [
    {
     "data": {
      "text/plain": [
       "true"
      ]
     },
     "metadata": {},
     "output_type": "display_data"
    }
   ],
   "source": [
    "function followcoarsedir(subc)\n",
    "     aim = 0\n",
    "     pos = [0 0]\n",
    "     for cmd in eachrow(subc)\n",
    "          d, v = cmd[1], cmd[2]\n",
    "          if d == \"down\"\n",
    "               aim += v\n",
    "          elseif d == \"up\"\n",
    "               aim -= v\n",
    "          else\n",
    "               pos += [v v*aim]\n",
    "          end\n",
    "     end\n",
    "     return pos\n",
    "end\n",
    "\n",
    "example_output_part2 = prod(followcoarsedir(sub_coarse_example))\n",
    "example_output_part2 == 900\n",
    "part2_output = prod(followcoarsedir(sub_coarse))\n",
    "part2_output == 1488311643"
   ]
  }
 ],
 "metadata": {
  "kernelspec": {
   "display_name": "Julia 1.7.0",
   "language": "julia",
   "name": "julia-1.7"
  },
  "language_info": {
   "file_extension": ".jl",
   "mimetype": "application/julia",
   "name": "julia",
   "version": "1.7.0"
  },
  "orig_nbformat": 4
 },
 "nbformat": 4,
 "nbformat_minor": 2
}
