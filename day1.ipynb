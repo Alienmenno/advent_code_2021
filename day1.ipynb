{
 "cells": [
  {
   "cell_type": "code",
   "execution_count": 67,
   "metadata": {},
   "outputs": [
    {
     "data": {
      "text/plain": [
       "countdecendingsweeps (generic function with 1 method)"
      ]
     },
     "metadata": {},
     "output_type": "display_data"
    }
   ],
   "source": [
    "function indiceseofdecendingsweeps(depth_sweeps)\n",
    "    [i for i in eachindex(depth_sweeps)[2:end] if depth_sweeps[i] > depth_sweeps[i-1]]\n",
    "end\n",
    "\n",
    "function countdecendingsweeps(depth_sweeps)\n",
    "    length(indiceseofdecendingsweeps(depth_sweeps))\n",
    "end"
   ]
  },
  {
   "cell_type": "code",
   "execution_count": 68,
   "metadata": {},
   "outputs": [
    {
     "data": {
      "text/plain": [
       "true"
      ]
     },
     "metadata": {},
     "output_type": "display_data"
    }
   ],
   "source": [
    "sonar_sweep_depth_example = [\n",
    "    199\n",
    "    200\n",
    "    208\n",
    "    210\n",
    "    200\n",
    "    207\n",
    "    240\n",
    "    269\n",
    "    260\n",
    "    263\n",
    "]\n",
    "\n",
    "number_of_increase = countdecendingsweeps(sonar_sweep_depth_example)\n",
    "\n",
    "number_of_increase == 7"
   ]
  },
  {
   "cell_type": "code",
   "execution_count": 69,
   "metadata": {},
   "outputs": [
    {
     "name": "stdout",
     "output_type": "stream",
     "text": [
      "1466\n"
     ]
    },
    {
     "data": {
      "text/plain": [
       "true"
      ]
     },
     "metadata": {},
     "output_type": "display_data"
    }
   ],
   "source": [
    "using DelimitedFiles\n",
    "\n",
    "depth_sweeps = readdlm(\"day1_part1_input.txt\", '\\n', Int)\n",
    "\n",
    "number_of_increase = countdecendingsweeps(depth_sweeps)\n",
    "\n",
    "println(number_of_increase)\n",
    "\n",
    "number_of_increase == 1466"
   ]
  },
  {
   "cell_type": "code",
   "execution_count": 70,
   "metadata": {},
   "outputs": [
    {
     "data": {
      "text/plain": [
       "countwindoweddecendingsweeps (generic function with 1 method)"
      ]
     },
     "metadata": {},
     "output_type": "display_data"
    }
   ],
   "source": [
    "function indicesewindowdecendingsweeps(depth_sweeps)\n",
    "    [i for i in eachindex(depth_sweeps)[4:end] if sum(depth_sweeps[i-3:i-1]) < sum(depth_sweeps[i-2:i])]\n",
    "end\n",
    "\n",
    "function countwindoweddecendingsweeps(depth_sweeps)\n",
    "    length(indicesewindowdecendingsweeps(depth_sweeps))\n",
    "end"
   ]
  },
  {
   "cell_type": "code",
   "execution_count": 71,
   "metadata": {},
   "outputs": [
    {
     "data": {
      "text/plain": [
       "true"
      ]
     },
     "metadata": {},
     "output_type": "display_data"
    }
   ],
   "source": [
    "sonar_sweep_depth_example = [\n",
    "    199\n",
    "    200\n",
    "    208\n",
    "    210\n",
    "    200\n",
    "    207\n",
    "    240\n",
    "    269\n",
    "    260\n",
    "    263\n",
    "]\n",
    "\n",
    "number_of_increase = countwindoweddecendingsweeps(sonar_sweep_depth_example)\n",
    "\n",
    "number_of_increase == 5"
   ]
  },
  {
   "cell_type": "code",
   "execution_count": 72,
   "metadata": {},
   "outputs": [
    {
     "data": {
      "text/plain": [
       "true"
      ]
     },
     "metadata": {},
     "output_type": "display_data"
    }
   ],
   "source": [
    "number_of_increase = countwindoweddecendingsweeps(depth_sweeps)\n",
    "\n",
    "number_of_increase == 1491"
   ]
  }
 ],
 "metadata": {
  "kernelspec": {
   "display_name": "Julia 1.7.0",
   "language": "julia",
   "name": "julia-1.7"
  },
  "language_info": {
   "file_extension": ".jl",
   "mimetype": "application/julia",
   "name": "julia",
   "version": "1.7.0"
  },
  "orig_nbformat": 4
 },
 "nbformat": 4,
 "nbformat_minor": 2
}
